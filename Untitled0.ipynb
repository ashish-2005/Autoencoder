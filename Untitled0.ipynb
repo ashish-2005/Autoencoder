{
  "nbformat": 4,
  "nbformat_minor": 0,
  "metadata": {
    "colab": {
      "provenance": []
    },
    "kernelspec": {
      "name": "python3",
      "display_name": "Python 3"
    },
    "language_info": {
      "name": "python"
    }
  },
  "cells": [
    {
      "cell_type": "markdown",
      "source": [
        "### Building a Deep autoencoder for Data compression\n",
        "***\n",
        "* **Data** : MNIST  \n",
        "* **Neural-Network**\n",
        "  * **Encoder** : 2 layers (input included)\n",
        "  * **BottleNeck** : 30 features\n",
        "  * **Decored** : 2 layers (output included)\n",
        "\n",
        "Total 5 layers (3 hidden layer, 1 input, 1 output)\n",
        "\n",
        "***Training Info***\n",
        "  * Optimizer : ADAM (gradient descent)\n",
        "  * Initializer : Xevier\n",
        "  * Epoch : 100 (Batch:100)\n",
        "\n",
        "***Result***\n",
        "* 784 feature compressed to 30\n",
        "* 96.17% compression\n",
        "<br>\n",
        "<img src='https://i.ibb.co/pJXLCZb/download.png'>"
      ],
      "metadata": {
        "id": "6rKyRQ2ykUcL"
      }
    },
    {
      "cell_type": "code",
      "execution_count": 78,
      "metadata": {
        "id": "57juH-TkkK5O"
      },
      "outputs": [],
      "source": [
        "### Getting data\n",
        "from tensorflow.keras.datasets import mnist\n",
        "(train_images, train_labels), (test_images, test_labels) = mnist.load_data()\n",
        "train_images = train_images.reshape([-1,1,784])\n",
        "test_images = test_images.reshape([-1,1,784])"
      ]
    },
    {
      "cell_type": "code",
      "source": [
        "train_images.shape"
      ],
      "metadata": {
        "colab": {
          "base_uri": "https://localhost:8080/"
        },
        "id": "PEyQV_a8uqxA",
        "outputId": "fa50db58-8a99-4d06-faee-1df286472d33"
      },
      "execution_count": 79,
      "outputs": [
        {
          "output_type": "execute_result",
          "data": {
            "text/plain": [
              "(60000, 1, 784)"
            ]
          },
          "metadata": {},
          "execution_count": 79
        }
      ]
    },
    {
      "cell_type": "code",
      "source": [
        "### Importing dependencies\n",
        "import tensorflow as tf\n",
        "import numpy as np\n",
        "import matplotlib.pyplot as plt"
      ],
      "metadata": {
        "id": "IoSYqP99kjoe"
      },
      "execution_count": 80,
      "outputs": []
    },
    {
      "cell_type": "code",
      "source": [
        "### shape of network\n",
        "shapes = [784,500,30,500,784]"
      ],
      "metadata": {
        "id": "uikf_woAknLd"
      },
      "execution_count": 81,
      "outputs": []
    },
    {
      "cell_type": "code",
      "source": [
        "### initializing weights and bias\n",
        "tf.random.set_seed(42)\n",
        "init = tf.initializers.GlorotUniform() #Xevier initializer\n",
        "weights = {f'w{i}': tf.Variable(init(shape=(shapes[i-1],shapes[i])),trainable=True) for i in range(1,5)}\n",
        "bias = {f'b{i}': tf.Variable(init(shape=(shapes[i],)),trainable=True) for i in range(1,5)}"
      ],
      "metadata": {
        "id": "BHL3DeK6k2Gi"
      },
      "execution_count": 82,
      "outputs": []
    },
    {
      "cell_type": "code",
      "source": [
        "### modles\n",
        "def encoder(X,W,B):\n",
        "  X = tf.cast(X,tf.float32)\n",
        "\n",
        "  o1 = tf.add(tf.matmul(X,W['w1']),B['b1'])\n",
        "  o1 = tf.nn.relu(o1)\n",
        "\n",
        "  o2 = tf.add(tf.matmul(o1,W['w2']),B['b2'])\n",
        "  bottelneck = tf.nn.relu(o2)\n",
        "\n",
        "  return bottelneck\n",
        "\n",
        "def decoder(X,W,B):\n",
        "\n",
        "  o1 = tf.add(tf.matmul(X,W['w3']),B['b3'])\n",
        "  o1 = tf.nn.relu(o1)\n",
        "\n",
        "  o2 = tf.add(tf.matmul(o1,W['w4']),B['b4'])\n",
        "  reconstruction = tf.nn.sigmoid(o2)\n",
        "\n",
        "  return reconstruction\n",
        "\n",
        "\n",
        "def autoencoder(X,W,B):\n",
        "  compressed = encoder(X,W,B)\n",
        "  return decoder(compressed,W,B)"
      ],
      "metadata": {
        "id": "vxCGTMVmlBS7"
      },
      "execution_count": 83,
      "outputs": []
    },
    {
      "cell_type": "code",
      "source": [
        "### loss/objective function\n",
        "def loss(pred,target):\n",
        "  return tf.losses.mse(target,pred)"
      ],
      "metadata": {
        "id": "-7CGneIurCxL"
      },
      "execution_count": 84,
      "outputs": []
    },
    {
      "cell_type": "code",
      "source": [
        "### training\n",
        "optimizer = tf.optimizers.Adam()\n",
        "optimizer.build(list(weights.values())+list(bias.values()))\n",
        "\n",
        "def training_step(model,X,W,B):\n",
        "  with tf.GradientTape(persistent=True) as tape:\n",
        "    current_loss = loss(model(X,W,B),X)\n",
        "\n",
        "  grad_w = tape.gradient( current_loss , W.values())\n",
        "  optimizer.apply_gradients(zip(grad_w,W.values()))\n",
        "\n",
        "  grad_b = tape.gradient(current_loss,B.values())\n",
        "  optimizer.apply_gradients(zip(grad_b,B.values()))\n",
        "\n",
        "epoch = 100\n",
        "\n",
        "X = (train_images/255)[:5000]\n",
        "X_test = (test_images/255)[:1000]\n",
        "\n",
        "train_err = []\n",
        "test_err = []\n",
        "\n",
        "for i in range(1,epoch+1):\n",
        "\n",
        "  X_r = i*10\n",
        "  X_t = i*10\n",
        "\n",
        "  X_set = X[X_r:X_r+100]\n",
        "  X_test_set = X_test[X_t:X_t+100]\n",
        "\n",
        "  training_step(autoencoder,X_set,weights,bias)\n",
        "\n",
        "  train_error = sum(loss(autoencoder(X_set,weights,bias),X_set))\n",
        "  test_error = sum(loss(autoencoder(X_test_set,weights,bias),X_test_set))\n",
        "\n",
        "  train_err.append(train_error)\n",
        "  test_err.append(test_error)\n",
        "\n",
        "  if (i%10==0):\n",
        "    print(f'''Epoch {i}/{epoch}\n",
        "          Train Error : {train_error}\n",
        "          Test Error {test_error}\n",
        "          ''')"
      ],
      "metadata": {
        "colab": {
          "base_uri": "https://localhost:8080/"
        },
        "id": "Z5YluRLhqZIC",
        "outputId": "8d8ce88c-c454-4282-f35d-cd811c49a072"
      },
      "execution_count": 85,
      "outputs": [
        {
          "output_type": "stream",
          "name": "stdout",
          "text": [
            "Epoch 10/100\n",
            "          Train Error : [7.6586213]\n",
            "          Test Error [7.556088]\n",
            "          \n",
            "Epoch 20/100\n",
            "          Train Error : [7.313884]\n",
            "          Test Error [7.123006]\n",
            "          \n",
            "Epoch 30/100\n",
            "          Train Error : [5.8930063]\n",
            "          Test Error [6.2814875]\n",
            "          \n",
            "Epoch 40/100\n",
            "          Train Error : [5.726696]\n",
            "          Test Error [6.321179]\n",
            "          \n",
            "Epoch 50/100\n",
            "          Train Error : [5.1209173]\n",
            "          Test Error [5.765501]\n",
            "          \n",
            "Epoch 60/100\n",
            "          Train Error : [4.5806785]\n",
            "          Test Error [5.3517065]\n",
            "          \n",
            "Epoch 70/100\n",
            "          Train Error : [4.8000383]\n",
            "          Test Error [5.217399]\n",
            "          \n",
            "Epoch 80/100\n",
            "          Train Error : [4.4268055]\n",
            "          Test Error [5.000429]\n",
            "          \n",
            "Epoch 90/100\n",
            "          Train Error : [4.1594725]\n",
            "          Test Error [4.5397964]\n",
            "          \n",
            "Epoch 100/100\n",
            "          Train Error : [3.9231446]\n",
            "          Test Error 0\n",
            "          \n"
          ]
        }
      ]
    },
    {
      "cell_type": "code",
      "source": [
        "plt.plot([i for i in range(1,len(train_err)+1)],train_err,'r-',label='train error')\n",
        "plt.plot([i for i in range(1,len(test_err)+1)],test_err,'g--',label='test error')\n",
        "plt.xlim([0.8,15.5]);plt.ylim([min(test_err)-2,max(train_err)+10])\n",
        "plt.xlabel('epoch')\n",
        "plt.ylabel('error')\n",
        "plt.legend()\n",
        "plt.show()"
      ],
      "metadata": {
        "colab": {
          "base_uri": "https://localhost:8080/",
          "height": 279
        },
        "id": "BnNysfRhrT8G",
        "outputId": "054f1771-166f-4664-ea56-ef52e268ed96"
      },
      "execution_count": 86,
      "outputs": [
        {
          "output_type": "display_data",
          "data": {
            "text/plain": [
              "<Figure size 432x288 with 1 Axes>"
            ],
            "image/png": "[encoded data removed]"
          },
          "metadata": {
            "needs_background": "light"
          }
        }
      ]
    },
    {
      "cell_type": "code",
      "source": [
        "plt.figure(figsize=(10,2))\n",
        "plt.suptitle('784 to 30 ie: 96.17% compression')\n",
        "for i in range(1,11):\n",
        "  img = test_images[i*10].reshape(1,784)\n",
        "  plt.subplot(2,10,i);plt.imshow(img.reshape(28,28),cmap='gray');plt.axis(False);\n",
        "\n",
        "  img_compressed = encoder(img,weights,bias)\n",
        "  reconstructed = decoder(img_compressed,weights,bias)\n",
        "\n",
        "  plt.subplot(2,10,i+10);plt.imshow(reconstructed.numpy().reshape(28,28),cmap='gray');plt.axis(False)"
      ],
      "metadata": {
        "colab": {
          "base_uri": "https://localhost:8080/",
          "height": 153
        },
        "id": "kBIx-23Mv_li",
        "outputId": "05611b59-b926-4537-e854-390018edaa79"
      },
      "execution_count": 87,
      "outputs": [
        {
          "output_type": "display_data",
          "data": {
            "text/plain": [
              "<Figure size 720x144 with 20 Axes>"
            ],
            "image/png": "[encoded data removed]"
          },
          "metadata": {
            "needs_background": "light"
          }
        }
      ]
    },
    {
      "cell_type": "code",
      "source": [],
      "metadata": {
        "id": "4dunJNv8xZig"
      },
      "execution_count": 87,
      "outputs": []
    }
  ]
}